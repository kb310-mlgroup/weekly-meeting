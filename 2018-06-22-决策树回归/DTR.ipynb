{
 "cells": [
  {
   "cell_type": "code",
   "execution_count": 1,
   "metadata": {},
   "outputs": [],
   "source": [
    "import numpy as np\n",
    "import pandas as pd\n",
    "from sklearn import datasets\n",
    "from sklearn.metrics import accuracy_score\n",
    "from sklearn.model_selection import train_test_split\n",
    "import pickle\n",
    "from sklearn import tree\n",
    "from sklearn.metrics import mean_squared_error\n",
    "import sys   \n"
   ]
  },
  {
   "cell_type": "code",
   "execution_count": 2,
   "metadata": {},
   "outputs": [],
   "source": [
    "sys.setrecursionlimit(1000000)"
   ]
  },
  {
   "cell_type": "code",
   "execution_count": 3,
   "metadata": {},
   "outputs": [],
   "source": [
    "train_data_boston = datasets.load_boston().data\n",
    "target_data_boston = datasets.load_boston().target\n",
    "result = []"
   ]
  },
  {
   "cell_type": "code",
   "execution_count": 4,
   "metadata": {},
   "outputs": [],
   "source": [
    "def Slide_data(columns, values,train):\n",
    "    index_bigger = train[train[columns] > values].index\n",
    "    index_smaller = train[train[columns] <= values].index\n",
    "    #train_bigger = train.loc[index_bigger]\n",
    "    #train_smaller = train.loc[index_smaller]\n",
    "    return index_bigger, index_smaller"
   ]
  },
  {
   "cell_type": "code",
   "execution_count": 5,
   "metadata": {},
   "outputs": [],
   "source": [
    "def transform(slide_values):\n",
    "    sl = np.asarray(slide_values)\n",
    "    temp = pd.DataFrame(data = sl, columns = ['columns'+'_'+str(i) for i in range(sl.shape[1])])\n",
    "    temp = temp.sort_values(by=temp.columns[2])\n",
    "    temp_array = np.array(temp)\n",
    "    index = temp_array[:,1].astype(np.int)\n",
    "    values = temp_array[:,2].astype(np.float)\n",
    "    columns = temp_array[:,0].astype(np.str)\n",
    "    c1_slide = temp_array[:,3].astype(np.float)\n",
    "    c0_slide = temp_array[:,4].astype(np.float)\n",
    "    return index, values, columns, c1_slide, c0_slide"
   ]
  },
  {
   "cell_type": "code",
   "execution_count": 6,
   "metadata": {},
   "outputs": [],
   "source": [
    "def Select_pairs(train, target):\n",
    "    Slides = []\n",
    "    mean_all = target.mean()[0]\n",
    "    t = 0\n",
    "    for x in train.columns:\n",
    "        j = 0\n",
    "        for i in train.index:\n",
    "            s = train[x].loc[i]\n",
    "            index_bigger, index_smaller = Slide_data(x, s, train)\n",
    "            if len(index_smaller)==0 or len(index_bigger)==0:\n",
    "                if len(index_smaller)==0:\n",
    "                    c_1 = mean_all\n",
    "                    c_0 = 0\n",
    "                    sum_c1 = (target-c_1).apply(lambda x:x**2).sum()[0]\n",
    "                    sum_c0 = 0\n",
    "                    sum_columns = sum_c1\n",
    "                else:\n",
    "                    c_0 = mean_all\n",
    "                    c_1 = 0\n",
    "                    sum_c0 = (target-c_0).apply(lambda x:x**2).sum()[0]\n",
    "                    sum_c1 = 0\n",
    "                    sum_columns = sum_c0\n",
    "            elif len(index_smaller) != 0 and len(index_smaller) != 0:\n",
    "                c_1 = target.loc[index_bigger].mean()[0]\n",
    "                c_0 = target.loc[index_smaller].mean()[0]\n",
    "                sum_c0 = (target.loc[index_smaller]-c_0).apply(lambda x:x**2).sum()[0]\n",
    "                sum_c1 = (target.loc[index_bigger]-c_1).apply(lambda x:x**2).sum()[0]\n",
    "                sum_columns = sum_c0 + sum_c1\n",
    "            if j == 0:\n",
    "                min_sum = sum_columns\n",
    "                min_index = i\n",
    "                c1_slide = c_1\n",
    "                c0_slide = c_0\n",
    "            elif j!=0 and sum_columns <= min_sum:\n",
    "                min_sum = sum_columns\n",
    "                min_index = i\n",
    "                c1_slide = c_1\n",
    "                c0_slide = c_0\n",
    "            j = j+1\n",
    "        if t == 0:\n",
    "            temp = [x, min_index, min_sum, c1_slide, c0_slide]\n",
    "            Slides.append(temp)\n",
    "        else:\n",
    "            if min_sum <= Slides[0][2]:\n",
    "                temp = [x, min_index, min_sum, c1_slide, c0_slide]\n",
    "                Slides = [temp]\n",
    "        t = t + 1\n",
    "        #Slides.append([x, min_index, min_sum, c1_slide, c0_slide])\n",
    "    #temp = Slides\n",
    "    #index,values,columns,c1_slide,c0_slide = transform(temp)\n",
    "    return Slides[0]"
   ]
  },
  {
   "cell_type": "code",
   "execution_count": 7,
   "metadata": {},
   "outputs": [],
   "source": [
    "def Creat_Tree(train, target, TSH):\n",
    "    if len(train)<=TSH:\n",
    "        mean = target.mean()[0]\n",
    "        return mean\n",
    "    slide = Select_pairs(train, target)\n",
    "    myTree = {str(slide[0])+'_'+str(train[slide[0]].loc[slide[1]]):{}}\n",
    "    index_bigger, index_smaller = Slide_data(slide[0], train[slide[0]].loc[slide[1]], train)\n",
    "    z = []\n",
    "    z.append(((train.loc[index_bigger],target.loc[index_bigger]),(train.loc[index_smaller],target.loc[index_smaller])))\n",
    "    for i in ([0,1]):\n",
    "        myTree[str(slide[0])+'_'+str(train[slide[0]].loc[slide[1]])][i] = Creat_Tree(z[0][i][0],z[0][i][1],TSH)\n",
    "    #index, values, column = Select_pairs(train.loc[index_bigger], target.loc[index_bigger])\n",
    "    #index, values, column = Select_pairs(train.loc[index_smaller], target.loc[index_smaller])\n",
    "    return myTree"
   ]
  },
  {
   "cell_type": "code",
   "execution_count": 8,
   "metadata": {},
   "outputs": [],
   "source": [
    "def to_pre(result):\n",
    "    prediction = pd.DataFrame()\n",
    "    for i in range(len(result)):\n",
    "        if len(result[i]) != 0:\n",
    "            prediction = pd.concat([prediction,result[i]])\n",
    "    return prediction.sort_index()"
   ]
  },
  {
   "cell_type": "code",
   "execution_count": 9,
   "metadata": {},
   "outputs": [],
   "source": [
    "def save_model(T,filename):\n",
    "    fw = open(filename,'w')\n",
    "    pickle.dump(T,fw)\n",
    "    fw.close\n",
    "\n",
    "def load_model(filename):\n",
    "    fr = open(filename)\n",
    "    return pickle.load(fr)"
   ]
  },
  {
   "cell_type": "code",
   "execution_count": 10,
   "metadata": {},
   "outputs": [],
   "source": [
    "def Train(train,target,model_name,TSH):\n",
    "    tree = Creat_Tree(train, target,TSH)\n",
    "    save_model(tree,model_name)\n",
    "    return tree"
   ]
  },
  {
   "cell_type": "code",
   "execution_count": 11,
   "metadata": {},
   "outputs": [],
   "source": [
    "def Predict(x_test,tree):\n",
    "    temp = Pre(tree, x_test)\n",
    "    prediction = to_pre(temp)\n",
    "    return prediction"
   ]
  },
  {
   "cell_type": "code",
   "execution_count": 12,
   "metadata": {},
   "outputs": [],
   "source": [
    "def Pre(tree,train):\n",
    "    if type(tree).__name__ == 'float64':\n",
    "        x = pd.DataFrame(index = train.index,columns = ['target'], data = tree )\n",
    "        result.append(x)\n",
    "    else:\n",
    "        keys = tree.keys()[0]\n",
    "        col = keys.split('_')[0]\n",
    "        values = float(keys.split('_')[1])\n",
    "        index_bigger = train[train[col] > values].index\n",
    "        index_smaller = train[train[col] <= values].index\n",
    "        Pre(tree[keys][0], train.loc[index_bigger])\n",
    "        Pre(tree[keys][1], train.loc[index_smaller])\n",
    "    return result"
   ]
  },
  {
   "cell_type": "code",
   "execution_count": 13,
   "metadata": {},
   "outputs": [],
   "source": [
    "def compare(x_train, x_test, y_train, y_test):\n",
    "    reg = tree.DecisionTreeRegressor()\n",
    "    reg.fit(x_train, y_train)\n",
    "    pre_sklearn = reg.predict(x_test)\n",
    "    mse = mean_squared_error(pre_sklearn, y_test)\n",
    "    return mse"
   ]
  },
  {
   "cell_type": "code",
   "execution_count": 14,
   "metadata": {},
   "outputs": [],
   "source": [
    "def Data_To_Pd(train, target):\n",
    "    train_data = pd.DataFrame(data = train,columns = [\"columns\"+str(x) for x in range(train.shape[1])])\n",
    "    target_data = pd.DataFrame(data = target, columns=[\"target\"])\n",
    "    x_train,x_test,y_train,y_test = train_test_split(train_data,target_data,test_size = 0.3, random_state=23)\n",
    "    return x_train, x_test, y_train, y_test"
   ]
  },
  {
   "cell_type": "code",
   "execution_count": 15,
   "metadata": {},
   "outputs": [],
   "source": [
    "def All_Process(train,target,metrics,model_name, TSH):\n",
    "    x_train,x_test,y_train,y_test = Data_To_Pd(train,target)\n",
    "    tree = Train(x_train, y_train,model_name, TSH)\n",
    "    mse_sklearn = compare(x_train, x_test, y_train, y_test)\n",
    "    prediction = Predict(x_test, tree)\n",
    "    if metrics == 'MSE':\n",
    "        mse = mean_squared_error(prediction, y_test.sort_index())\n",
    "    print (\"Sklearn's mse is %f,Mine is %f\"%(mse_sklearn, mse))\n",
    "    return prediction, mse"
   ]
  },
  {
   "cell_type": "code",
   "execution_count": null,
   "metadata": {},
   "outputs": [],
   "source": [
    "prediction,error = All_Process(train_data_boston, target_data_boston, metrics='MSE',TSH = 5, model_name='DTR_model_5.txt')"
   ]
  },
  {
   "cell_type": "code",
   "execution_count": null,
   "metadata": {},
   "outputs": [],
   "source": [
    "def Review(train, target, model_name):\n",
    "    x_train,x_test,y_train,y_test = Data_To_Pd(train, target)\n",
    "    model = load_model(model_name)\n",
    "    "
   ]
  },
  {
   "cell_type": "code",
   "execution_count": null,
   "metadata": {},
   "outputs": [],
   "source": [
    "#tree = load_model('DTR_model_1.txt')"
   ]
  },
  {
   "cell_type": "code",
   "execution_count": null,
   "metadata": {},
   "outputs": [],
   "source": [
    "#x_train,x_test,y_train,y_test = Data_To_Pd(train_data_boston, target_data_boston)"
   ]
  },
  {
   "cell_type": "markdown",
   "metadata": {},
   "source": [
    "# Another-dataset"
   ]
  },
  {
   "cell_type": "code",
   "execution_count": 16,
   "metadata": {},
   "outputs": [],
   "source": [
    "train_data_diabet = datasets.load_diabetes().data\n",
    "target_data_diabet = datasets.load_diabetes().target"
   ]
  },
  {
   "cell_type": "code",
   "execution_count": 17,
   "metadata": {},
   "outputs": [],
   "source": [
    "data_train,data_val,target_train,target_val = Data_To_Pd(train_data_diabet, target_data_diabet)"
   ]
  },
  {
   "cell_type": "code",
   "execution_count": 18,
   "metadata": {},
   "outputs": [
    {
     "name": "stdout",
     "output_type": "stream",
     "text": [
      "Sklearn's mse is 6329.631579,Mine is 5200.532615\n"
     ]
    }
   ],
   "source": [
    "a,b = All_Process(train_data_diabet, target_data_diabet, metrics='MSE',TSH = 5, model_name='DTR_model_diabet_1.txt')"
   ]
  },
  {
   "cell_type": "code",
   "execution_count": null,
   "metadata": {},
   "outputs": [],
   "source": [
    "tree_dia = load_model('DTR_model_150.txt')"
   ]
  },
  {
   "cell_type": "code",
   "execution_count": null,
   "metadata": {},
   "outputs": [],
   "source": [
    "Pre(tree_dia, data_val)"
   ]
  }
 ],
 "metadata": {
  "kernelspec": {
   "display_name": "Python 2",
   "language": "python",
   "name": "python2"
  },
  "language_info": {
   "codemirror_mode": {
    "name": "ipython",
    "version": 2
   },
   "file_extension": ".py",
   "mimetype": "text/x-python",
   "name": "python",
   "nbconvert_exporter": "python",
   "pygments_lexer": "ipython2",
   "version": "2.7.12"
  }
 },
 "nbformat": 4,
 "nbformat_minor": 2
}
